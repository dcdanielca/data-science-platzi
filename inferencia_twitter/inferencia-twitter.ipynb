{
 "cells": [
  {
   "cell_type": "markdown",
   "metadata": {},
   "source": [
    "# Formular la pregunta"
   ]
  },
  {
   "cell_type": "markdown",
   "metadata": {},
   "source": [
    "### \"Cuál es la probabilidad que un tweet que origina dentro de los coordinados geográficos (-78.31, 0.44, -70.71, 11.39) contiene al menos una ocurrencia de la palabra 'yo' con cualquier composición de acentos y letras minúsculas y mayúsculas.\""
   ]
  },
  {
   "cell_type": "markdown",
   "metadata": {},
   "source": [
    "![](http://mediossociales.es/wp-content/uploads/2012/01/twitter_futbol12.jpg)"
   ]
  },
  {
   "cell_type": "markdown",
   "metadata": {},
   "source": [
    "# Recopilar datos"
   ]
  },
  {
   "cell_type": "code",
   "execution_count": 36,
   "metadata": {},
   "outputs": [],
   "source": [
    "import os\n",
    "\n",
    "import tweepy\n",
    "from tweepy import Stream\n",
    "\n",
    "from stream_listener import FiniteStreamListener\n",
    "from __future__ import unicode_literals"
   ]
  },
  {
   "cell_type": "markdown",
   "metadata": {},
   "source": [
    "### Cargar credenciales"
   ]
  },
  {
   "cell_type": "code",
   "execution_count": 15,
   "metadata": {},
   "outputs": [],
   "source": [
    "CONSUMER_KEY = '##########'\n",
    "CONSUMER_SECRET = '###########'\n",
    "ACCESS_TOKEN = '##############'\n",
    "ACCESS_TOKEN_SECRET = '##########'"
   ]
  },
  {
   "cell_type": "code",
   "execution_count": 38,
   "metadata": {},
   "outputs": [],
   "source": [
    "COLOMBIA_GEO_LOCATION_BOUNDING_BOX = [-78.31, 0.44, -70.71, 11.39]\n",
    "NUMBER_OF_TWEETS = 100"
   ]
  },
  {
   "cell_type": "code",
   "execution_count": 39,
   "metadata": {},
   "outputs": [],
   "source": [
    "auth = tweepy.OAuthHandler(CONSUMER_KEY, CONSUMER_SECRET)\n",
    "auth.set_access_token(ACCESS_TOKEN, ACCESS_TOKEN_SECRET)\n",
    "api = tweepy.API(auth)"
   ]
  },
  {
   "cell_type": "markdown",
   "metadata": {},
   "source": [
    "### Establecer una conexión al API de Twitter"
   ]
  },
  {
   "cell_type": "code",
   "execution_count": 40,
   "metadata": {},
   "outputs": [],
   "source": [
    "finite_stream_listener = FiniteStreamListener(number_of_tweets=NUMBER_OF_TWEETS)\n",
    "streaming_api = Stream(auth=auth, listener=finite_stream_listener)"
   ]
  },
  {
   "cell_type": "markdown",
   "metadata": {},
   "source": [
    "### Sorber del firehouse"
   ]
  },
  {
   "cell_type": "code",
   "execution_count": 41,
   "metadata": {},
   "outputs": [],
   "source": [
    "streaming_api.filter(locations=COLOMBIA_GEO_LOCATION_BOUNDING_BOX)"
   ]
  },
  {
   "cell_type": "markdown",
   "metadata": {},
   "source": [
    "# Limpiar datos"
   ]
  },
  {
   "cell_type": "code",
   "execution_count": 42,
   "metadata": {
    "scrolled": true
   },
   "outputs": [],
   "source": [
    "from unidecode import unidecode"
   ]
  },
  {
   "cell_type": "markdown",
   "metadata": {},
   "source": [
    "### Definir funciones de limpieza"
   ]
  },
  {
   "cell_type": "code",
   "execution_count": 43,
   "metadata": {},
   "outputs": [],
   "source": [
    "def make_lowercase(tweet):\n",
    "    return tweet.lower()\n",
    "\n",
    "\n",
    "def remove_diacritics(tweet):\n",
    "    return unidecode(tweet)\n",
    "\n",
    "\n",
    "def remove_non_alpha_characters(tweet):\n",
    "    return ''.join(character for character in tweet if character.isalpha() or character == ' ')"
   ]
  },
  {
   "cell_type": "markdown",
   "metadata": {},
   "source": [
    "### Aplicar las funciones"
   ]
  },
  {
   "cell_type": "code",
   "execution_count": 44,
   "metadata": {},
   "outputs": [
    {
     "data": {
      "text/plain": [
       "['Yo pensé que no podría vivir sin @Uber_Col y vean que sí.',\n",
       " '@birnajulissatv @TReporta No entiendo que significa ese pacto?',\n",
       " '@camilobog1 Yo bb',\n",
       " '@alexand69424042 Muy buenas; esperando estes muy bien.',\n",
       " 'Si alguna vez se te ha mojado un libro, vas a entender de lo que hablo. \\nCuando eso pasa, y lo pones a secar, se de… https://t.co/ivg9O6KfcX',\n",
       " 'estado debiles tiempo atrás. Y yo creo que pasa lo mismo con las personas cuando estamos heridxs. Tomamos nuestro t… https://t.co/yJ248Ay0Tk',\n",
       " '@TaxisLibres4 @elpaiscali @TraficoCali @TwiterosCali @CaliWebCo @Area20Apoyo @vivalasnoticias @CaliSosVos… https://t.co/pyOdzjOMru',\n",
       " '@CholoValderrama Vamos criollo saque el pecho por nosotros',\n",
       " '[BOLETÍN] #FeriaHechoAMano promueve desarrollo productivo en Azuay, Cañar y Morona Santiago. ➡️… https://t.co/gnjr33J82A',\n",
       " 'No la soporto 🙄',\n",
       " 'Yo si lo he hecho😌 https://t.co/d0xAnmcLtZ',\n",
       " 'amigos colombianos no se equivoquen al votar @petrogustavo quiere llevar a colombia como cuba y venezuela no permit… https://t.co/MeRjF6XQds',\n",
       " \"Mom's Bday 🎈🎉 (@ Nemo by Harry Sasson in Bogotá, DC) https://t.co/ZMEhdvcjMF\",\n",
       " 'Estas son las bebidas y jugos que te ayudaran a durar toda la noche , VIAGRAS naturales HAGA CLIC PARA VER ----&gt;… https://t.co/1dQ0Cdw6tR',\n",
       " 'Y si te vas dejame solo un besito.',\n",
       " '@elcareponque_ 😁😁\\n\\nhttps://t.co/54gWTZuL6B',\n",
       " '#790AM | “Nos han llegado casos y los hemos remitido a la Superintendencia de Servicios Públicos”: William Rosas so… https://t.co/3VnW7kcjg0',\n",
       " 'Solo con la Administracion Peñalosa volvimos a tener inversión en el centro de la ciudad, la cual redundara en recu… https://t.co/aOq2AjCqCu',\n",
       " 'Nuestros uniformados del Municipio de #Caicedo brindan jornada institucional y realizan campaña de plan desarme vol… https://t.co/Fxo07AUhxk',\n",
       " 'Él solo sirve para ser faltón 😒',\n",
       " '@gianluc96991580 hola mi vida hermosa',\n",
       " '@Darkarttphoto Yo creo que querian decir: \"cuando termine su mandato NO (negación) lo van a agradecer\"',\n",
       " '@MJ_vane Tienes que comprar uno especial y prepararlo suave para que te vayas adaptando, y vas a ver la diferencia',\n",
       " 'I love viernes https://t.co/H4sn04KwTq',\n",
       " '@camilobog1 Pongame a mamar bb',\n",
       " '@Kapriella2 @LuchoCcs1 @biserioccs @Nexzux @DjPelon1 @alexnz84 @Edyerx @piernonmedioxxx @Alexg8403 rico vale.. pero… https://t.co/dUE4O2zKyl',\n",
       " '@d4rkparvdise ahah buenoo',\n",
       " '@inspectorboxer ❤❤❤❤❤❤😻😻😻😻😻',\n",
       " 'soy vegetariana pero me como al 🐰',\n",
       " '@Kamo_Cortes No debió anunciarlo cómo el gran regreso, la verdad esperaba mucho más.',\n",
       " '@juancarlosH_99 @valentinabonivb Arrechos',\n",
       " 'Mientras llegamos a esto, que sería lo ideal en equidad y justicia, vamos con la propuesta de @DELAESPRIELLAE https://t.co/KxjfnmIPHo',\n",
       " '@BTSinPanama2018 @NiikisHallows @Paosuth @littleSaraVoo @yaquelbella29 yo quiero a @BTS_twt @bts_bighit en pty… https://t.co/U1STx3y8f0',\n",
       " 'Hoy Closing set @videoclubx 2:00-5:00 am 💣 https://t.co/HiBBWZrlNg',\n",
       " '😍 https://t.co/QCcfJmK61Q',\n",
       " 'Google must have an immediate, clear and ethical fix now.\\n\\n https://t.co/JkxvRhYnGB',\n",
       " 'De cero, sabes que estoy pa ti 🎵',\n",
       " 'Ni siquiera a Cissè le va mal! https://t.co/Lc1WQDCsuy',\n",
       " 'Cual será la opinión de @Pontifex_es frente a la decisión de la conferencia episcopal colombiana de albergar (Prote… https://t.co/px1iqzOPC3',\n",
       " '#Emprende un negocio diferente y rentable, monta tu #óptica a través… https://t.co/wzUiI0iUHa',\n",
       " '@Ccajar @hidroituango @EPMestamosahi @ANLA_Col @MinAmbienteCo @GobAntioquia @AlcaldiadeMed @PGN_COL @DefensoriaCol… https://t.co/ILCa3LLJB3',\n",
       " 'Me Tienen Azarao Los 🚓🚔👮',\n",
       " '@GGFrosteX Bet baby date is cancelled I’m all yours!!',\n",
       " 'Tengo muy claro lo que quiero, y es a ti.',\n",
       " '@JuanchoAlvarz No es Tan feo 🤦\\u200d♀️🤦\\u200d♀️🤦\\u200d♀️',\n",
       " '@willsmith Agree! The sound is AWESOME!',\n",
       " '@MartinSantosR @Ariasvilla Qué decentes ni qué ocho cuartos',\n",
       " 'En el Atlántico logramos la cofinanciación del Gobierno Nacional para la intervención de 40 colegios oficiales con… https://t.co/luoXwcGA5o',\n",
       " '@Vfonblack @felipao_1991 Exacto el que quiera tomar pues que tomé en su casa, la embarré en su casa y con su familia punto!!!',\n",
       " '@JuanCamiloGA94 Juera mijo😒',\n",
       " '@alca_alexandra gracias bella.',\n",
       " 'https://t.co/1g2AR5Q8xA',\n",
       " 'Los amooooo😭😭😭😭😭😭😭😭 https://t.co/ccpmWEhWIi',\n",
       " '@EimyBarrios Mi mama same pa ir a uninor',\n",
       " '@AmaadorC Es para la aerolínea.',\n",
       " '@eliamvillalba @HassNassar Sabes la respuesta de la palabra \"COMPETENTE\"',\n",
       " 'Send nude para saber como llegaste',\n",
       " 'Cuando te esteras que @DianaCarolinaLC no sabe usar Twitter https://t.co/Nc0h53JR9I',\n",
       " '@ADJusticia pienso los mismo y también hacer lo mismo con los otros viejos terroristas que están en la lista de EEUU y dan recompensa.',\n",
       " '@carole_bouchard In*',\n",
       " 'Me disculpan camaradas,a veces estoy con ustedes en las redes, escribiendo algo y tengo que salir urgente, y mando… https://t.co/m02zDztPm2',\n",
       " 'Que se sentira que me acepte esa inviteishon a la pascasia',\n",
       " 'Pregunto... para que votamos??? si vamos a tener el mismo Presidente que no es PRESIDENTE...',\n",
       " '@AlvaroUribeVel Ja, payaso. Hablo el propio ejemplo...',\n",
       " '@19Wendy41 🙊\\n\\nhttps://t.co/Bau7WKTfc5',\n",
       " '@camilobog1 Que rico ese trozo para que me agas su yo bb',\n",
       " 'Sencillamente hermosa 👌🏾 https://t.co/8gcCQiBsga',\n",
       " '@NicolasMaduro .@IMVillarroel GRACIAS POR EL DECRETO #440.476(D-3.330),transferencia de terrenos publicos-privado a… https://t.co/1YIvTY2Ise',\n",
       " '@Manuel_Teodoro Más claro para donde',\n",
       " '@Andersonrojass2 @braper21 @lucia30k Jjajajajajakajakajabjajajajav Lo que hace el amor',\n",
       " '@NicolasMaduro .@IMVillarroel GRACIAS POR EL DECRETO #440.476(D-3.330),transferencia de terrenos publicos-privado a… https://t.co/wJc8NZt0ML',\n",
       " 'Gracias a la guardia kankuama, fuerza fuerza!!!\\nGracias a los jovenes que fueron mayoria!!!\\nGracias al pueblo arhua… https://t.co/VIHW2NIFoQ',\n",
       " '@NicolasMaduro .@IMVillarroel GRACIAS POR EL DECRETO #440.476(D-3.330),transferencia de terrenos publicos-privado a… https://t.co/Z2a993kRl6',\n",
       " '@NicolasMaduro .@IMVillarroel A LA ESPERA DE INSPECCION DE DIRECCION MINISTERIAL PARA ARRANQUE POR PARTE DE .… https://t.co/VLyBuK4wVA',\n",
       " 'Como una señora en una floristería me dijo que no tenía tiempo para ayudarme a armar las flores que quería. https://t.co/i7FQLoBAEh',\n",
       " '@NicolasMaduro .@IMVillarroel A LA ESPERA DE INSPECCION DE DIRECCION MINISTERIAL PARA ARRANQUE POR PARTE DE .… https://t.co/O70YIEQUkW',\n",
       " '@NicolasMaduro @maduro_en @maduro_pt @IMVillarroel @OmarPrietoGob Esperamos su respuesta y apoyo por la Realizacion… https://t.co/vPOYegzlzQ',\n",
       " '@NicolasMaduro @maduro_en @maduro_pt @IMVillarroel @OmarPrietoGob Esperamos su respuesta y apoyo por la Realizacion… https://t.co/u9tsepH2gJ',\n",
       " '@ADJusticia @mmmferro No solo de pan vive el hombre',\n",
       " 'A pesar de eso quisiera verlo 😂😅',\n",
       " 'Ya escuchaste mi nueva canción #LasCartasSobreLaMesa? Escúchala en @DeezerLatam https://t.co/oNdlXnF6aP',\n",
       " 'https://t.co/MXMDCdWCvd',\n",
       " 'Agradecer a DIOS antes de que sucedan las cosas, eso se llama fe.',\n",
       " '@pewdiepie @ffsadomhq i and i know him. throughout his vids. his mistakes and sh.. but this.. is NOT OK.  i know fe… https://t.co/d1xcnRR65R',\n",
       " '@gusgomez1701 @petrogustavo Si puede pasar hombre! Si puede pasar! La universidad debe estar lejos de la política h… https://t.co/j3qQLQC5ls',\n",
       " 'La botella*',\n",
       " 'Apoyo interinstitucional @PoliciaStaMarta @Ejercito_Div1 @armadacolombia @ICBFColombia @secretariagob a operativo c… https://t.co/qfYrhmAPXu',\n",
       " 'Señores, tienen que ir a ver teatro!',\n",
       " '@DonLuisEduardo Y vendrán cosas peores',\n",
       " 'No sé porque soy tan impulsiva.',\n",
       " 'Proyección para el final de la tarde de formación de nubes de tormentas eléctricas con lluvias dispersas al Oeste d… https://t.co/CN8LVhdfEF',\n",
       " '@AlvaroUribeVel Reverenda hueva? 😂',\n",
       " '“Bueno”\\n\\nLa muletilla por excelencia de las instabloggers panameñas.',\n",
       " '@Margaritarosadf Yoda, is it you?',\n",
       " 'Mi abuela es una dura 😍💪🏼Fitness 🏋🏽\\u200d♀️ https://t.co/dFgk4BkoeO',\n",
       " '#RadioMPPE Oír https://t.co/mlj5oW90m2  Humberto Morales #Falcon con la Jefa Zona Educativa Marelis Castro desde la… https://t.co/ZMclFuhYcr',\n",
       " 'Amar é tão sagrado pra quem sabe amar\\nJamais confunda amor com se acostumar',\n",
       " 'Jajajajajaja yop https://t.co/228y7T6MMZ',\n",
       " '@HassNassar Duque! Sencillo',\n",
       " 'Mijo sería buen guionista de películas de terror. https://t.co/P9xALxiS8c']"
      ]
     },
     "execution_count": 44,
     "metadata": {},
     "output_type": "execute_result"
    }
   ],
   "source": [
    "finite_stream_listener.tweets"
   ]
  },
  {
   "cell_type": "code",
   "execution_count": 46,
   "metadata": {},
   "outputs": [],
   "source": [
    "cleaned_tweets = list(finite_stream_listener.tweets)\n",
    "\n",
    "for cleaning_function in [make_lowercase, remove_diacritics, remove_non_alpha_characters]:\n",
    "    cleaned_tweets = [cleaning_function(tweet) for tweet in cleaned_tweets]"
   ]
  },
  {
   "cell_type": "code",
   "execution_count": 47,
   "metadata": {},
   "outputs": [
    {
     "data": {
      "text/plain": [
       "['yo pense que no podria vivir sin ubercol y vean que si',\n",
       " 'birnajulissatv treporta no entiendo que significa ese pacto',\n",
       " 'camilobog yo bb',\n",
       " 'alexand muy buenas esperando estes muy bien',\n",
       " 'si alguna vez se te ha mojado un libro vas a entender de lo que hablo cuando eso pasa y lo pones a secar se de httpstcoivgokfcx',\n",
       " 'estado debiles tiempo atras y yo creo que pasa lo mismo con las personas cuando estamos heridxs tomamos nuestro t httpstcoyjaytk',\n",
       " 'taxislibres elpaiscali traficocali twiteroscali caliwebco areaapoyo vivalasnoticias calisosvos httpstcopyodzjomru',\n",
       " 'cholovalderrama vamos criollo saque el pecho por nosotros',\n",
       " 'boletin feriahechoamano promueve desarrollo productivo en azuay canar y morona santiago  httpstcognjrja',\n",
       " 'no la soporto ',\n",
       " 'yo si lo he hecho httpstcodxanmcltz',\n",
       " 'amigos colombianos no se equivoquen al votar petrogustavo quiere llevar a colombia como cuba y venezuela no permit httpstcomerjfxqds',\n",
       " 'moms bday   nemo by harry sasson in bogota dc httpstcozmehdvcjmf',\n",
       " 'estas son las bebidas y jugos que te ayudaran a durar toda la noche  viagras naturales haga clic para ver gt httpstcodqcdwtr',\n",
       " 'y si te vas dejame solo un besito',\n",
       " 'elcareponque httpstcogwtzulb',\n",
       " 'am  nos han llegado casos y los hemos remitido a la superintendencia de servicios publicos william rosas so httpstcovnwkcjg',\n",
       " 'solo con la administracion penalosa volvimos a tener inversion en el centro de la ciudad la cual redundara en recu httpstcoaoqajcqcu',\n",
       " 'nuestros uniformados del municipio de caicedo brindan jornada institucional y realizan campana de plan desarme vol httpstcofxoauhxk',\n",
       " 'el solo sirve para ser falton ',\n",
       " 'gianluc hola mi vida hermosa',\n",
       " 'darkarttphoto yo creo que querian decir cuando termine su mandato no negacion lo van a agradecer',\n",
       " 'mjvane tienes que comprar uno especial y prepararlo suave para que te vayas adaptando y vas a ver la diferencia',\n",
       " 'i love viernes httpstcohsnkwtq',\n",
       " 'camilobog pongame a mamar bb',\n",
       " 'kapriella luchoccs biserioccs nexzux djpelon alexnz edyerx piernonmedioxxx alexg rico vale pero httpstcodueozkyl',\n",
       " 'drkparvdise ahah buenoo',\n",
       " 'inspectorboxer ',\n",
       " 'soy vegetariana pero me como al ',\n",
       " 'kamocortes no debio anunciarlo como el gran regreso la verdad esperaba mucho mas',\n",
       " 'juancarlosh valentinabonivb arrechos',\n",
       " 'mientras llegamos a esto que seria lo ideal en equidad y justicia vamos con la propuesta de delaespriellae httpstcokxjfnmipho',\n",
       " 'btsinpanama niikishallows paosuth littlesaravoo yaquelbella yo quiero a btstwt btsbighit en pty httpstcoustxyf',\n",
       " 'hoy closing set videoclubx  am  httpstcohibbwzrlng',\n",
       " ' httpstcoqccfjmkq',\n",
       " 'google must have an immediate clear and ethical fix now httpstcojkxvrhyngb',\n",
       " 'de cero sabes que estoy pa ti ',\n",
       " 'ni siquiera a cisse le va mal httpstcolcwqdcsuy',\n",
       " 'cual sera la opinion de pontifexes frente a la decision de la conferencia episcopal colombiana de albergar prote httpstcopxiqzopc',\n",
       " 'emprende un negocio diferente y rentable monta tu optica a traves httpstcowzuiiiuha',\n",
       " 'ccajar hidroituango epmestamosahi anlacol minambienteco gobantioquia alcaldiademed pgncol defensoriacol httpstcoilcalljb',\n",
       " 'me tienen azarao los ',\n",
       " 'ggfrostex bet baby date is cancelled im all yours',\n",
       " 'tengo muy claro lo que quiero y es a ti',\n",
       " 'juanchoalvarz no es tan feo ',\n",
       " 'willsmith agree the sound is awesome',\n",
       " 'martinsantosr ariasvilla que decentes ni que ocho cuartos',\n",
       " 'en el atlantico logramos la cofinanciacion del gobierno nacional para la intervencion de  colegios oficiales con httpstcoluoxwcgao',\n",
       " 'vfonblack felipao exacto el que quiera tomar pues que tome en su casa la embarre en su casa y con su familia punto',\n",
       " 'juancamiloga juera mijo',\n",
       " 'alcaalexandra gracias bella',\n",
       " 'httpstcogarqxa',\n",
       " 'los amooooo httpstcoccpmwehwii',\n",
       " 'eimybarrios mi mama same pa ir a uninor',\n",
       " 'amaadorc es para la aerolinea',\n",
       " 'eliamvillalba hassnassar sabes la respuesta de la palabra competente',\n",
       " 'send nude para saber como llegaste',\n",
       " 'cuando te esteras que dianacarolinalc no sabe usar twitter httpstconchjri',\n",
       " 'adjusticia pienso los mismo y tambien hacer lo mismo con los otros viejos terroristas que estan en la lista de eeuu y dan recompensa',\n",
       " 'carolebouchard in',\n",
       " 'me disculpan camaradasa veces estoy con ustedes en las redes escribiendo algo y tengo que salir urgente y mando httpstcomzdztpm',\n",
       " 'que se sentira que me acepte esa inviteishon a la pascasia',\n",
       " 'pregunto para que votamos si vamos a tener el mismo presidente que no es presidente',\n",
       " 'alvarouribevel ja payaso hablo el propio ejemplo',\n",
       " 'wendy httpstcobauwktfc',\n",
       " 'camilobog que rico ese trozo para que me agas su yo bb',\n",
       " 'sencillamente hermosa  httpstcogccqibsga',\n",
       " 'nicolasmaduro imvillarroel gracias por el decreto dtransferencia de terrenos publicosprivado a httpstcoyivtyise',\n",
       " 'manuelteodoro mas claro para donde',\n",
       " 'andersonrojass braper luciak jjajajajajakajakajabjajajajav lo que hace el amor',\n",
       " 'nicolasmaduro imvillarroel gracias por el decreto dtransferencia de terrenos publicosprivado a httpstcowjcnztml',\n",
       " 'gracias a la guardia kankuama fuerza fuerzagracias a los jovenes que fueron mayoriagracias al pueblo arhua httpstcovihwnifoq',\n",
       " 'nicolasmaduro imvillarroel gracias por el decreto dtransferencia de terrenos publicosprivado a httpstcozakrl',\n",
       " 'nicolasmaduro imvillarroel a la espera de inspeccion de direccion ministerial para arranque por parte de  httpstcovlybukwva',\n",
       " 'como una senora en una floristeria me dijo que no tenia tiempo para ayudarme a armar las flores que queria httpstcoifqlobaeh',\n",
       " 'nicolasmaduro imvillarroel a la espera de inspeccion de direccion ministerial para arranque por parte de  httpstcooyiequkw',\n",
       " 'nicolasmaduro maduroen maduropt imvillarroel omarprietogob esperamos su respuesta y apoyo por la realizacion httpstcovpoyegzlzq',\n",
       " 'nicolasmaduro maduroen maduropt imvillarroel omarprietogob esperamos su respuesta y apoyo por la realizacion httpstcoutsephgj',\n",
       " 'adjusticia mmmferro no solo de pan vive el hombre',\n",
       " 'a pesar de eso quisiera verlo ',\n",
       " 'ya escuchaste mi nueva cancion lascartassobrelamesa escuchala en deezerlatam httpstcoondlxnfap',\n",
       " 'httpstcomxmdcdwcvd',\n",
       " 'agradecer a dios antes de que sucedan las cosas eso se llama fe',\n",
       " 'pewdiepie ffsadomhq i and i know him throughout his vids his mistakes and sh but this is not ok  i know fe httpstcodxcnrrr',\n",
       " 'gusgomez petrogustavo si puede pasar hombre si puede pasar la universidad debe estar lejos de la politica h httpstcojqqlqcls',\n",
       " 'la botella',\n",
       " 'apoyo interinstitucional policiastamarta ejercitodiv armadacolombia icbfcolombia secretariagob a operativo c httpstcoqfyrhmapxu',\n",
       " 'senores tienen que ir a ver teatro',\n",
       " 'donluiseduardo y vendran cosas peores',\n",
       " 'no se porque soy tan impulsiva',\n",
       " 'proyeccion para el final de la tarde de formacion de nubes de tormentas electricas con lluvias dispersas al oeste d httpstcocnlvhdfef',\n",
       " 'alvarouribevel reverenda hueva ',\n",
       " 'buenola muletilla por excelencia de las instabloggers panamenas',\n",
       " 'margaritarosadf yoda is it you',\n",
       " 'mi abuela es una dura fitness  httpstcodfgkbkoeo',\n",
       " 'radiomppe oir httpstcomljowm  humberto morales falcon con la jefa zona educativa marelis castro desde la httpstcozmclfuhycr',\n",
       " 'amar e tao sagrado pra quem sabe amarjamais confunda amor com se acostumar',\n",
       " 'jajajajajaja yop httpstcoytmmz',\n",
       " 'hassnassar duque sencillo',\n",
       " 'mijo seria buen guionista de peliculas de terror httpstcopxalxisc']"
      ]
     },
     "execution_count": 47,
     "metadata": {},
     "output_type": "execute_result"
    }
   ],
   "source": [
    "cleaned_tweets"
   ]
  },
  {
   "cell_type": "markdown",
   "metadata": {},
   "source": [
    "# Dormir con tus datos"
   ]
  },
  {
   "cell_type": "code",
   "execution_count": 48,
   "metadata": {},
   "outputs": [],
   "source": [
    "%matplotlib inline\n",
    "\n",
    "from pprint import pprint\n",
    "import pandas as pd"
   ]
  },
  {
   "cell_type": "code",
   "execution_count": 66,
   "metadata": {},
   "outputs": [],
   "source": [
    "KEYWORD = 'yo'"
   ]
  },
  {
   "cell_type": "markdown",
   "metadata": {},
   "source": [
    "### Primeros 10 tweets"
   ]
  },
  {
   "cell_type": "code",
   "execution_count": 67,
   "metadata": {},
   "outputs": [
    {
     "name": "stdout",
     "output_type": "stream",
     "text": [
      "['yo pense que no podria vivir sin ubercol y vean que si',\n",
      " 'birnajulissatv treporta no entiendo que significa ese pacto',\n",
      " 'camilobog yo bb',\n",
      " 'alexand muy buenas esperando estes muy bien',\n",
      " 'si alguna vez se te ha mojado un libro vas a entender de lo que hablo cuando '\n",
      " 'eso pasa y lo pones a secar se de httpstcoivgokfcx',\n",
      " 'estado debiles tiempo atras y yo creo que pasa lo mismo con las personas '\n",
      " 'cuando estamos heridxs tomamos nuestro t httpstcoyjaytk',\n",
      " 'taxislibres elpaiscali traficocali twiteroscali caliwebco areaapoyo '\n",
      " 'vivalasnoticias calisosvos httpstcopyodzjomru',\n",
      " 'cholovalderrama vamos criollo saque el pecho por nosotros',\n",
      " 'boletin feriahechoamano promueve desarrollo productivo en azuay canar y '\n",
      " 'morona santiago  httpstcognjrja',\n",
      " 'no la soporto ']\n"
     ]
    }
   ],
   "source": [
    "pprint(cleaned_tweets[:10])"
   ]
  },
  {
   "cell_type": "markdown",
   "metadata": {},
   "source": [
    "### ¿Cuantas veces aparece la palabra clave?"
   ]
  },
  {
   "cell_type": "code",
   "execution_count": 68,
   "metadata": {},
   "outputs": [
    {
     "name": "stdout",
     "output_type": "stream",
     "text": [
      "Nuestra palabra clave aparece: 15 veces\n"
     ]
    }
   ],
   "source": [
    "number_of_occurences = sum(KEYWORD in tweet for tweet in cleaned_tweets)\n",
    "print('Nuestra palabra clave aparece: {} veces'.format(number_of_occurences))"
   ]
  },
  {
   "cell_type": "markdown",
   "metadata": {},
   "source": [
    "### ¿Con cual frecuencia apareció?"
   ]
  },
  {
   "cell_type": "code",
   "execution_count": 69,
   "metadata": {},
   "outputs": [
    {
     "name": "stdout",
     "output_type": "stream",
     "text": [
      "Nuestra palabra clave apareció en: 15.0% de los tweets\n"
     ]
    }
   ],
   "source": [
    "print('Nuestra palabra clave apareció en: {}% de los tweets'.format(100 * number_of_occurences/NUMBER_OF_TWEETS))"
   ]
  },
  {
   "cell_type": "markdown",
   "metadata": {},
   "source": [
    "### ¿Cómo son los tweets que la contienen?"
   ]
  },
  {
   "cell_type": "code",
   "execution_count": 70,
   "metadata": {},
   "outputs": [
    {
     "name": "stdout",
     "output_type": "stream",
     "text": [
      "['yo pense que no podria vivir sin ubercol y vean que si',\n",
      " 'camilobog yo bb',\n",
      " 'estado debiles tiempo atras y yo creo que pasa lo mismo con las personas '\n",
      " 'cuando estamos heridxs tomamos nuestro t httpstcoyjaytk',\n",
      " 'taxislibres elpaiscali traficocali twiteroscali caliwebco areaapoyo '\n",
      " 'vivalasnoticias calisosvos httpstcopyodzjomru',\n",
      " 'yo si lo he hecho httpstcodxanmcltz',\n",
      " 'darkarttphoto yo creo que querian decir cuando termine su mandato no '\n",
      " 'negacion lo van a agradecer',\n",
      " 'btsinpanama niikishallows paosuth littlesaravoo yaquelbella yo quiero a '\n",
      " 'btstwt btsbighit en pty httpstcoustxyf',\n",
      " 'ggfrostex bet baby date is cancelled im all yours',\n",
      " 'camilobog que rico ese trozo para que me agas su yo bb',\n",
      " 'gracias a la guardia kankuama fuerza fuerzagracias a los jovenes que fueron '\n",
      " 'mayoriagracias al pueblo arhua httpstcovihwnifoq',\n",
      " 'nicolasmaduro maduroen maduropt imvillarroel omarprietogob esperamos su '\n",
      " 'respuesta y apoyo por la realizacion httpstcovpoyegzlzq',\n",
      " 'nicolasmaduro maduroen maduropt imvillarroel omarprietogob esperamos su '\n",
      " 'respuesta y apoyo por la realizacion httpstcoutsephgj',\n",
      " 'apoyo interinstitucional policiastamarta ejercitodiv armadacolombia '\n",
      " 'icbfcolombia secretariagob a operativo c httpstcoqfyrhmapxu',\n",
      " 'margaritarosadf yoda is it you',\n",
      " 'jajajajajaja yop httpstcoytmmz']\n"
     ]
    }
   ],
   "source": [
    "pprint([tweet for tweet in cleaned_tweets if KEYWORD in tweet])"
   ]
  },
  {
   "cell_type": "markdown",
   "metadata": {},
   "source": [
    "### ¿Cuál es la distancia promedio entre ocurrencias consecutivas?"
   ]
  },
  {
   "cell_type": "code",
   "execution_count": 72,
   "metadata": {},
   "outputs": [],
   "source": [
    "indices_of_tweets_containing_keyword = [index for index, tweet in enumerate(cleaned_tweets) if KEYWORD in tweet]"
   ]
  },
  {
   "cell_type": "code",
   "execution_count": 73,
   "metadata": {},
   "outputs": [
    {
     "data": {
      "text/plain": [
       "[0, 2, 5, 6, 10, 21, 32, 42, 65, 71, 76, 77, 86, 93, 97]"
      ]
     },
     "execution_count": 73,
     "metadata": {},
     "output_type": "execute_result"
    }
   ],
   "source": [
    "indices_of_tweets_containing_keyword"
   ]
  },
  {
   "cell_type": "code",
   "execution_count": 75,
   "metadata": {},
   "outputs": [],
   "source": [
    "distances_between_indices_of_tweets_containing_keyword = [\n",
    "    second_index - first_index for first_index, second_index in \\\n",
    "        zip(indices_of_tweets_containing_keyword[:-1], indices_of_tweets_containing_keyword[1:])\n",
    "]"
   ]
  },
  {
   "cell_type": "code",
   "execution_count": 76,
   "metadata": {},
   "outputs": [
    {
     "data": {
      "text/plain": [
       "<matplotlib.axes._subplots.AxesSubplot at 0x7f16aa025828>"
      ]
     },
     "execution_count": 76,
     "metadata": {},
     "output_type": "execute_result"
    },
    {
     "data": {
      "image/png": "[encoded data removed]",
      "text/plain": [
       "<matplotlib.figure.Figure at 0x7f16aa0253c8>"
      ]
     },
     "metadata": {},
     "output_type": "display_data"
    }
   ],
   "source": [
    "pd.Series(distances_between_indices_of_tweets_containing_keyword).hist()"
   ]
  },
  {
   "cell_type": "markdown",
   "metadata": {},
   "source": [
    "# Construir un modelo"
   ]
  },
  {
   "cell_type": "code",
   "execution_count": 77,
   "metadata": {},
   "outputs": [],
   "source": [
    "import matplotlib.pyplot as plt\n",
    "import numpy as np\n",
    "from scipy.stats import beta as beta_distribution"
   ]
  },
  {
   "cell_type": "markdown",
   "metadata": {},
   "source": [
    "### Definir los parámetros de un Beta Distribution"
   ]
  },
  {
   "cell_type": "code",
   "execution_count": 79,
   "metadata": {},
   "outputs": [],
   "source": [
    "alpha = 1 + number_of_occurences\n",
    "beta = 1 + (NUMBER_OF_TWEETS - number_of_occurences)\n",
    "\n",
    "x_values = np.linspace(0, 1, 1002)[1:-1]\n",
    "pdf_y_values = beta_distribution(alpha, beta).pdf(x_values)\n",
    "cdf_y_values = np.cumsum(pdf_y_values) / np.sum(pdf_y_values)"
   ]
  },
  {
   "cell_type": "markdown",
   "metadata": {},
   "source": [
    "### Visualizar"
   ]
  },
  {
   "cell_type": "markdown",
   "metadata": {},
   "source": [
    "![](http://i.imgur.com/mj059cS.png)"
   ]
  },
  {
   "cell_type": "code",
   "execution_count": 80,
   "metadata": {
    "scrolled": false
   },
   "outputs": [
    {
     "data": {
      "image/png": "[encoded data removed]",
      "text/plain": [
       "<matplotlib.figure.Figure at 0x7f169aa67550>"
      ]
     },
     "metadata": {},
     "output_type": "display_data"
    }
   ],
   "source": [
    "plt.figure(figsize=(18, 6))\n",
    "\n",
    "# PDF\n",
    "plt.subplot(121)\n",
    "\n",
    "plt.plot(x_values, pdf_y_values, label=(r'$\\alpha=%.1f,\\ \\beta=%.1f$' % (alpha, beta)))\n",
    "\n",
    "plt.xlim(0, 1)\n",
    "plt.xlabel('Probability of tweet containing keyword')\n",
    "plt.ylabel('Probability density')\n",
    "plt.title('Beta Distribution PDF')\n",
    "plt.legend(loc=1)\n",
    "\n",
    "\n",
    "# CDF\n",
    "plt.subplot(122)\n",
    "\n",
    "plt.plot(x_values, cdf_y_values)\n",
    "\n",
    "plt.xlim(0, 1)\n",
    "plt.ylim(0, 1.005)\n",
    "plt.yticks(np.linspace(0, 1, 21))\n",
    "plt.xlabel('Probability of tweet containing keyword')\n",
    "plt.ylabel('Cumulative probability')\n",
    "plt.title('Beta Distribution CDF')\n",
    "\n",
    "plt.show()"
   ]
  },
  {
   "cell_type": "markdown",
   "metadata": {},
   "source": [
    "# Comunicar resultados"
   ]
  },
  {
   "cell_type": "markdown",
   "metadata": {},
   "source": [
    "### Con 90% de certeza, digamos que la verdadera probabilidad:"
   ]
  },
  {
   "cell_type": "code",
   "execution_count": 82,
   "metadata": {},
   "outputs": [],
   "source": [
    "fifth_percentile = max(\n",
    "    [x_value for x_value, y_value in zip(x_values, cdf_y_values) if y_value <= .05]\n",
    ")\n",
    "\n",
    "ninety_fifth_percentile = max(\n",
    "    [x_value for x_value, y_value in zip(x_values, cdf_y_values) if y_value <= .95]\n",
    ")"
   ]
  },
  {
   "cell_type": "code",
   "execution_count": 83,
   "metadata": {},
   "outputs": [
    {
     "name": "stdout",
     "output_type": "stream",
     "text": [
      "Con 90% de certeza digamos que la verdadera probabilidad se encuentra entre: 0.1009 y 0.2188\n"
     ]
    }
   ],
   "source": [
    "print('Con 90% de certeza digamos que la verdadera probabilidad se encuentra entre: {} y {}'.format(\n",
    "    round(fifth_percentile, 4), round(ninety_fifth_percentile, 4)))"
   ]
  },
  {
   "cell_type": "markdown",
   "metadata": {},
   "source": [
    "### La probabilidad que la verdadera probabilidad (de que un tweet contiene nuesta palabra clave) sea más grande de .1:"
   ]
  },
  {
   "cell_type": "code",
   "execution_count": 87,
   "metadata": {},
   "outputs": [],
   "source": [
    "def compute_total_probability_that_probability_less_than_p(p):\n",
    "    return max(cumulative_prob for cumulative_prob, x_value in zip(cdf_y_values, x_values) if x_value < p)"
   ]
  },
  {
   "cell_type": "code",
   "execution_count": 88,
   "metadata": {},
   "outputs": [
    {
     "name": "stdout",
     "output_type": "stream",
     "text": [
      "La probabilidad que la verdadera probabilidad es > .1 es: 0.9555151909391556\n"
     ]
    }
   ],
   "source": [
    "print('La probabilidad que la verdadera probabilidad es > .1 es: {}'.format(\n",
    "    1 - compute_total_probability_that_probability_less_than_p(.1))\n",
    ")"
   ]
  }
 ],
 "metadata": {
  "kernelspec": {
   "display_name": "Python 3",
   "language": "python",
   "name": "python3"
  },
  "language_info": {
   "codemirror_mode": {
    "name": "ipython",
    "version": 3
   },
   "file_extension": ".py",
   "mimetype": "text/x-python",
   "name": "python",
   "nbconvert_exporter": "python",
   "pygments_lexer": "ipython3",
   "version": "3.6.5"
  }
 },
 "nbformat": 4,
 "nbformat_minor": 1
}
